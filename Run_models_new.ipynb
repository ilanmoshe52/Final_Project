{
  "cells": [
    {
      "cell_type": "code",
      "source": [
        "!pip install ktrain"
      ],
      "metadata": {
        "colab": {
          "base_uri": "https://localhost:8080/"
        },
        "id": "W_vV4oHi_B-K",
        "outputId": "23d39185-d25f-4bb0-8be1-640eec060655"
      },
      "execution_count": 1,
      "outputs": [
        {
          "output_type": "stream",
          "name": "stdout",
          "text": [
            "Looking in indexes: https://pypi.org/simple, https://us-python.pkg.dev/colab-wheels/public/simple/\n",
            "Requirement already satisfied: ktrain in /usr/local/lib/python3.10/dist-packages (0.37.0)\n",
            "Requirement already satisfied: scikit-learn in /usr/local/lib/python3.10/dist-packages (from ktrain) (1.2.2)\n",
            "Requirement already satisfied: matplotlib>=3.0.0 in /usr/local/lib/python3.10/dist-packages (from ktrain) (3.7.1)\n",
            "Requirement already satisfied: pandas>=1.0.1 in /usr/local/lib/python3.10/dist-packages (from ktrain) (1.5.3)\n",
            "Requirement already satisfied: fastprogress>=0.1.21 in /usr/local/lib/python3.10/dist-packages (from ktrain) (1.0.3)\n",
            "Requirement already satisfied: requests in /usr/local/lib/python3.10/dist-packages (from ktrain) (2.27.1)\n",
            "Requirement already satisfied: joblib in /usr/local/lib/python3.10/dist-packages (from ktrain) (1.2.0)\n",
            "Requirement already satisfied: packaging in /usr/local/lib/python3.10/dist-packages (from ktrain) (23.1)\n",
            "Requirement already satisfied: langdetect in /usr/local/lib/python3.10/dist-packages (from ktrain) (1.0.9)\n",
            "Requirement already satisfied: jieba in /usr/local/lib/python3.10/dist-packages (from ktrain) (0.42.1)\n",
            "Requirement already satisfied: cchardet in /usr/local/lib/python3.10/dist-packages (from ktrain) (2.1.7)\n",
            "Requirement already satisfied: chardet in /usr/local/lib/python3.10/dist-packages (from ktrain) (4.0.0)\n",
            "Requirement already satisfied: syntok>1.3.3 in /usr/local/lib/python3.10/dist-packages (from ktrain) (1.4.4)\n",
            "Requirement already satisfied: tika in /usr/local/lib/python3.10/dist-packages (from ktrain) (2.6.0)\n",
            "Requirement already satisfied: transformers>=4.17.0 in /usr/local/lib/python3.10/dist-packages (from ktrain) (4.29.2)\n",
            "Requirement already satisfied: sentencepiece in /usr/local/lib/python3.10/dist-packages (from ktrain) (0.1.99)\n",
            "Requirement already satisfied: keras-bert>=0.86.0 in /usr/local/lib/python3.10/dist-packages (from ktrain) (0.89.0)\n",
            "Requirement already satisfied: whoosh in /usr/local/lib/python3.10/dist-packages (from ktrain) (2.7.4)\n",
            "Requirement already satisfied: numpy in /usr/local/lib/python3.10/dist-packages (from keras-bert>=0.86.0->ktrain) (1.22.4)\n",
            "Requirement already satisfied: keras-transformer==0.40.0 in /usr/local/lib/python3.10/dist-packages (from keras-bert>=0.86.0->ktrain) (0.40.0)\n",
            "Requirement already satisfied: keras-pos-embd==0.13.0 in /usr/local/lib/python3.10/dist-packages (from keras-transformer==0.40.0->keras-bert>=0.86.0->ktrain) (0.13.0)\n",
            "Requirement already satisfied: keras-multi-head==0.29.0 in /usr/local/lib/python3.10/dist-packages (from keras-transformer==0.40.0->keras-bert>=0.86.0->ktrain) (0.29.0)\n",
            "Requirement already satisfied: keras-layer-normalization==0.16.0 in /usr/local/lib/python3.10/dist-packages (from keras-transformer==0.40.0->keras-bert>=0.86.0->ktrain) (0.16.0)\n",
            "Requirement already satisfied: keras-position-wise-feed-forward==0.8.0 in /usr/local/lib/python3.10/dist-packages (from keras-transformer==0.40.0->keras-bert>=0.86.0->ktrain) (0.8.0)\n",
            "Requirement already satisfied: keras-embed-sim==0.10.0 in /usr/local/lib/python3.10/dist-packages (from keras-transformer==0.40.0->keras-bert>=0.86.0->ktrain) (0.10.0)\n",
            "Requirement already satisfied: keras-self-attention==0.51.0 in /usr/local/lib/python3.10/dist-packages (from keras-multi-head==0.29.0->keras-transformer==0.40.0->keras-bert>=0.86.0->ktrain) (0.51.0)\n",
            "Requirement already satisfied: contourpy>=1.0.1 in /usr/local/lib/python3.10/dist-packages (from matplotlib>=3.0.0->ktrain) (1.0.7)\n",
            "Requirement already satisfied: cycler>=0.10 in /usr/local/lib/python3.10/dist-packages (from matplotlib>=3.0.0->ktrain) (0.11.0)\n",
            "Requirement already satisfied: fonttools>=4.22.0 in /usr/local/lib/python3.10/dist-packages (from matplotlib>=3.0.0->ktrain) (4.39.3)\n",
            "Requirement already satisfied: kiwisolver>=1.0.1 in /usr/local/lib/python3.10/dist-packages (from matplotlib>=3.0.0->ktrain) (1.4.4)\n",
            "Requirement already satisfied: pillow>=6.2.0 in /usr/local/lib/python3.10/dist-packages (from matplotlib>=3.0.0->ktrain) (8.4.0)\n",
            "Requirement already satisfied: pyparsing>=2.3.1 in /usr/local/lib/python3.10/dist-packages (from matplotlib>=3.0.0->ktrain) (3.0.9)\n",
            "Requirement already satisfied: python-dateutil>=2.7 in /usr/local/lib/python3.10/dist-packages (from matplotlib>=3.0.0->ktrain) (2.8.2)\n",
            "Requirement already satisfied: pytz>=2020.1 in /usr/local/lib/python3.10/dist-packages (from pandas>=1.0.1->ktrain) (2022.7.1)\n",
            "Requirement already satisfied: regex>2016 in /usr/local/lib/python3.10/dist-packages (from syntok>1.3.3->ktrain) (2022.10.31)\n",
            "Requirement already satisfied: filelock in /usr/local/lib/python3.10/dist-packages (from transformers>=4.17.0->ktrain) (3.12.0)\n",
            "Requirement already satisfied: huggingface-hub<1.0,>=0.14.1 in /usr/local/lib/python3.10/dist-packages (from transformers>=4.17.0->ktrain) (0.14.1)\n",
            "Requirement already satisfied: pyyaml>=5.1 in /usr/local/lib/python3.10/dist-packages (from transformers>=4.17.0->ktrain) (6.0)\n",
            "Requirement already satisfied: tokenizers!=0.11.3,<0.14,>=0.11.1 in /usr/local/lib/python3.10/dist-packages (from transformers>=4.17.0->ktrain) (0.13.3)\n",
            "Requirement already satisfied: tqdm>=4.27 in /usr/local/lib/python3.10/dist-packages (from transformers>=4.17.0->ktrain) (4.65.0)\n",
            "Requirement already satisfied: six in /usr/local/lib/python3.10/dist-packages (from langdetect->ktrain) (1.16.0)\n",
            "Requirement already satisfied: urllib3<1.27,>=1.21.1 in /usr/local/lib/python3.10/dist-packages (from requests->ktrain) (1.26.15)\n",
            "Requirement already satisfied: certifi>=2017.4.17 in /usr/local/lib/python3.10/dist-packages (from requests->ktrain) (2022.12.7)\n",
            "Requirement already satisfied: charset-normalizer~=2.0.0 in /usr/local/lib/python3.10/dist-packages (from requests->ktrain) (2.0.12)\n",
            "Requirement already satisfied: idna<4,>=2.5 in /usr/local/lib/python3.10/dist-packages (from requests->ktrain) (3.4)\n",
            "Requirement already satisfied: scipy>=1.3.2 in /usr/local/lib/python3.10/dist-packages (from scikit-learn->ktrain) (1.10.1)\n",
            "Requirement already satisfied: threadpoolctl>=2.0.0 in /usr/local/lib/python3.10/dist-packages (from scikit-learn->ktrain) (3.1.0)\n",
            "Requirement already satisfied: setuptools in /usr/local/lib/python3.10/dist-packages (from tika->ktrain) (67.7.2)\n",
            "Requirement already satisfied: fsspec in /usr/local/lib/python3.10/dist-packages (from huggingface-hub<1.0,>=0.14.1->transformers>=4.17.0->ktrain) (2023.4.0)\n",
            "Requirement already satisfied: typing-extensions>=3.7.4.3 in /usr/local/lib/python3.10/dist-packages (from huggingface-hub<1.0,>=0.14.1->transformers>=4.17.0->ktrain) (4.5.0)\n"
          ]
        }
      ]
    },
    {
      "cell_type": "code",
      "source": [
        "!pip install colorama"
      ],
      "metadata": {
        "colab": {
          "base_uri": "https://localhost:8080/"
        },
        "id": "-6BSAKqJ15tP",
        "outputId": "23103551-6cb3-4ae9-c0f4-62a3be564100"
      },
      "execution_count": 63,
      "outputs": [
        {
          "output_type": "stream",
          "name": "stdout",
          "text": [
            "Looking in indexes: https://pypi.org/simple, https://us-python.pkg.dev/colab-wheels/public/simple/\n",
            "Collecting colorama\n",
            "  Downloading colorama-0.4.6-py2.py3-none-any.whl (25 kB)\n",
            "Installing collected packages: colorama\n",
            "Successfully installed colorama-0.4.6\n"
          ]
        }
      ]
    },
    {
      "cell_type": "code",
      "source": [
        "import ktrain\n",
        "from   ktrain import text\n",
        "import pandas as pd\n",
        "from   sklearn.metrics import classification_report,confusion_matrix,accuracy_score\n",
        "import seaborn as sns\n",
        "import matplotlib.pyplot as plt\n",
        "import colorama\n",
        "from colorama import Fore, Back, Style"
      ],
      "metadata": {
        "id": "dmTZTTL4-wYq"
      },
      "execution_count": 64,
      "outputs": []
    },
    {
      "cell_type": "code",
      "source": [
        "# load the logistic regression model\n",
        "predictor_lgr = ktrain.load_predictor('/content/logistic_regresson')"
      ],
      "metadata": {
        "id": "nNumFaPP-znD"
      },
      "execution_count": 3,
      "outputs": []
    },
    {
      "cell_type": "code",
      "source": [
        "# load the logistic distilbert model\n",
        "predictor_dist = ktrain.load_predictor('/content/distilbert_model')"
      ],
      "metadata": {
        "id": "_ld1j1UXIPcH"
      },
      "execution_count": 4,
      "outputs": []
    },
    {
      "cell_type": "code",
      "source": [
        "# load the logistic bert model\n",
        "# predictor_bert = ktrain.load_predictor('/content/bert')"
      ],
      "metadata": {
        "id": "j18921qUIP8d"
      },
      "execution_count": null,
      "outputs": []
    },
    {
      "cell_type": "code",
      "source": [
        "# load the train.csv \n",
        "df = pd.read_csv('/content/train.csv')\n",
        "df.head()"
      ],
      "metadata": {
        "colab": {
          "base_uri": "https://localhost:8080/",
          "height": 206
        },
        "id": "bRPog3W0-3Ki",
        "outputId": "9bc36153-186c-4815-e7b4-f7ef4b48f78d"
      },
      "execution_count": 5,
      "outputs": [
        {
          "output_type": "execute_result",
          "data": {
            "text/plain": [
              "                                                text  sentiment\n",
              "0  For a movie that gets no respect there sure ar...          0\n",
              "1  Bizarre horror movie filled with famous faces ...          0\n",
              "2  A solid, if unremarkable film. Matthau, as Ein...          0\n",
              "3  It's a strange feeling to sit alone in a theat...          0\n",
              "4  You probably all already know this by now, but...          0"
            ],
            "text/html": [
              "\n",
              "  <div id=\"df-a7569c10-9e85-4cb2-8559-fdbc4dadf741\">\n",
              "    <div class=\"colab-df-container\">\n",
              "      <div>\n",
              "<style scoped>\n",
              "    .dataframe tbody tr th:only-of-type {\n",
              "        vertical-align: middle;\n",
              "    }\n",
              "\n",
              "    .dataframe tbody tr th {\n",
              "        vertical-align: top;\n",
              "    }\n",
              "\n",
              "    .dataframe thead th {\n",
              "        text-align: right;\n",
              "    }\n",
              "</style>\n",
              "<table border=\"1\" class=\"dataframe\">\n",
              "  <thead>\n",
              "    <tr style=\"text-align: right;\">\n",
              "      <th></th>\n",
              "      <th>text</th>\n",
              "      <th>sentiment</th>\n",
              "    </tr>\n",
              "  </thead>\n",
              "  <tbody>\n",
              "    <tr>\n",
              "      <th>0</th>\n",
              "      <td>For a movie that gets no respect there sure ar...</td>\n",
              "      <td>0</td>\n",
              "    </tr>\n",
              "    <tr>\n",
              "      <th>1</th>\n",
              "      <td>Bizarre horror movie filled with famous faces ...</td>\n",
              "      <td>0</td>\n",
              "    </tr>\n",
              "    <tr>\n",
              "      <th>2</th>\n",
              "      <td>A solid, if unremarkable film. Matthau, as Ein...</td>\n",
              "      <td>0</td>\n",
              "    </tr>\n",
              "    <tr>\n",
              "      <th>3</th>\n",
              "      <td>It's a strange feeling to sit alone in a theat...</td>\n",
              "      <td>0</td>\n",
              "    </tr>\n",
              "    <tr>\n",
              "      <th>4</th>\n",
              "      <td>You probably all already know this by now, but...</td>\n",
              "      <td>0</td>\n",
              "    </tr>\n",
              "  </tbody>\n",
              "</table>\n",
              "</div>\n",
              "      <button class=\"colab-df-convert\" onclick=\"convertToInteractive('df-a7569c10-9e85-4cb2-8559-fdbc4dadf741')\"\n",
              "              title=\"Convert this dataframe to an interactive table.\"\n",
              "              style=\"display:none;\">\n",
              "        \n",
              "  <svg xmlns=\"http://www.w3.org/2000/svg\" height=\"24px\"viewBox=\"0 0 24 24\"\n",
              "       width=\"24px\">\n",
              "    <path d=\"M0 0h24v24H0V0z\" fill=\"none\"/>\n",
              "    <path d=\"M18.56 5.44l.94 2.06.94-2.06 2.06-.94-2.06-.94-.94-2.06-.94 2.06-2.06.94zm-11 1L8.5 8.5l.94-2.06 2.06-.94-2.06-.94L8.5 2.5l-.94 2.06-2.06.94zm10 10l.94 2.06.94-2.06 2.06-.94-2.06-.94-.94-2.06-.94 2.06-2.06.94z\"/><path d=\"M17.41 7.96l-1.37-1.37c-.4-.4-.92-.59-1.43-.59-.52 0-1.04.2-1.43.59L10.3 9.45l-7.72 7.72c-.78.78-.78 2.05 0 2.83L4 21.41c.39.39.9.59 1.41.59.51 0 1.02-.2 1.41-.59l7.78-7.78 2.81-2.81c.8-.78.8-2.07 0-2.86zM5.41 20L4 18.59l7.72-7.72 1.47 1.35L5.41 20z\"/>\n",
              "  </svg>\n",
              "      </button>\n",
              "      \n",
              "  <style>\n",
              "    .colab-df-container {\n",
              "      display:flex;\n",
              "      flex-wrap:wrap;\n",
              "      gap: 12px;\n",
              "    }\n",
              "\n",
              "    .colab-df-convert {\n",
              "      background-color: #E8F0FE;\n",
              "      border: none;\n",
              "      border-radius: 50%;\n",
              "      cursor: pointer;\n",
              "      display: none;\n",
              "      fill: #1967D2;\n",
              "      height: 32px;\n",
              "      padding: 0 0 0 0;\n",
              "      width: 32px;\n",
              "    }\n",
              "\n",
              "    .colab-df-convert:hover {\n",
              "      background-color: #E2EBFA;\n",
              "      box-shadow: 0px 1px 2px rgba(60, 64, 67, 0.3), 0px 1px 3px 1px rgba(60, 64, 67, 0.15);\n",
              "      fill: #174EA6;\n",
              "    }\n",
              "\n",
              "    [theme=dark] .colab-df-convert {\n",
              "      background-color: #3B4455;\n",
              "      fill: #D2E3FC;\n",
              "    }\n",
              "\n",
              "    [theme=dark] .colab-df-convert:hover {\n",
              "      background-color: #434B5C;\n",
              "      box-shadow: 0px 1px 3px 1px rgba(0, 0, 0, 0.15);\n",
              "      filter: drop-shadow(0px 1px 2px rgba(0, 0, 0, 0.3));\n",
              "      fill: #FFFFFF;\n",
              "    }\n",
              "  </style>\n",
              "\n",
              "      <script>\n",
              "        const buttonEl =\n",
              "          document.querySelector('#df-a7569c10-9e85-4cb2-8559-fdbc4dadf741 button.colab-df-convert');\n",
              "        buttonEl.style.display =\n",
              "          google.colab.kernel.accessAllowed ? 'block' : 'none';\n",
              "\n",
              "        async function convertToInteractive(key) {\n",
              "          const element = document.querySelector('#df-a7569c10-9e85-4cb2-8559-fdbc4dadf741');\n",
              "          const dataTable =\n",
              "            await google.colab.kernel.invokeFunction('convertToInteractive',\n",
              "                                                     [key], {});\n",
              "          if (!dataTable) return;\n",
              "\n",
              "          const docLinkHtml = 'Like what you see? Visit the ' +\n",
              "            '<a target=\"_blank\" href=https://colab.research.google.com/notebooks/data_table.ipynb>data table notebook</a>'\n",
              "            + ' to learn more about interactive tables.';\n",
              "          element.innerHTML = '';\n",
              "          dataTable['output_type'] = 'display_data';\n",
              "          await google.colab.output.renderOutput(dataTable, element);\n",
              "          const docLink = document.createElement('div');\n",
              "          docLink.innerHTML = docLinkHtml;\n",
              "          element.appendChild(docLink);\n",
              "        }\n",
              "      </script>\n",
              "    </div>\n",
              "  </div>\n",
              "  "
            ]
          },
          "metadata": {},
          "execution_count": 5
        }
      ]
    },
    {
      "cell_type": "code",
      "source": [
        "# selected sentences for statisitcs compare between all models\n",
        "selected_rows = df[12400:12600]\n",
        "selected_text = selected_rows['text']\n",
        "selected_sentiment = selected_rows['sentiment']\n",
        "#selected_text ,selected_sentiment"
      ],
      "metadata": {
        "colab": {
          "base_uri": "https://localhost:8080/"
        },
        "id": "p3Vsu6RtKJSV",
        "outputId": "771e6c7e-947d-4d0a-c1d8-d65e646a1e0d"
      },
      "execution_count": 12,
      "outputs": [
        {
          "output_type": "execute_result",
          "data": {
            "text/plain": [
              "(12400    This film is a quite entertaining horror antho...\n",
              " 12401    one of the funnest mario's i've ever played. t...\n",
              " 12402    Indian Summer! It was very nostalgic for me. I...\n",
              " 12403    I'd just like to say that i've seen this film ...\n",
              " 12404    This film is an absolute classic for camp. Tha...\n",
              "                                ...                        \n",
              " 12595    This horrendously bad piece of trash manages t...\n",
              " 12596    The monster from Enemy Mine somehow made his w...\n",
              " 12597      I am a big-time horror/sci-fi fan regardless...\n",
              " 12598    what kind of sh*t is this? Power rangers vs Fr...\n",
              " 12599    Because others have gone to the trouble of sum...\n",
              " Name: text, Length: 200, dtype: object,\n",
              " 12400    0\n",
              " 12401    0\n",
              " 12402    0\n",
              " 12403    0\n",
              " 12404    0\n",
              "         ..\n",
              " 12595    1\n",
              " 12596    1\n",
              " 12597    1\n",
              " 12598    1\n",
              " 12599    1\n",
              " Name: sentiment, Length: 200, dtype: int64)"
            ]
          },
          "metadata": {},
          "execution_count": 12
        }
      ]
    },
    {
      "cell_type": "code",
      "source": [
        "max(selected_sentiment) , min(selected_sentiment)"
      ],
      "metadata": {
        "colab": {
          "base_uri": "https://localhost:8080/"
        },
        "id": "ARKQ9m13jMs7",
        "outputId": "2dfae772-9ed0-427f-c0ec-dd3f79eb1749"
      },
      "execution_count": 13,
      "outputs": [
        {
          "output_type": "execute_result",
          "data": {
            "text/plain": [
              "(1, 0)"
            ]
          },
          "metadata": {},
          "execution_count": 13
        }
      ]
    },
    {
      "cell_type": "code",
      "source": [
        "selected_sentiment.value_counts()"
      ],
      "metadata": {
        "colab": {
          "base_uri": "https://localhost:8080/"
        },
        "id": "OEipGzzojNnr",
        "outputId": "0f52d024-5f0e-4d02-dec0-44a024e4a760"
      },
      "execution_count": 14,
      "outputs": [
        {
          "output_type": "execute_result",
          "data": {
            "text/plain": [
              "0    100\n",
              "1    100\n",
              "Name: sentiment, dtype: int64"
            ]
          },
          "metadata": {},
          "execution_count": 14
        }
      ]
    },
    {
      "cell_type": "code",
      "source": [
        "data = [ 'This movie was horrible! The plot was boring. Acting was okay, though.',\n",
        "         'The film really sucked. I want my money back.',\n",
        "        'What a beautiful romantic comedy. 10/10 would see again!']"
      ],
      "metadata": {
        "id": "8HMNLNzGiPoZ"
      },
      "execution_count": 7,
      "outputs": []
    },
    {
      "cell_type": "code",
      "source": [
        "y_pred_lgr = predictor_lgr.predict(data, verbose=0)"
      ],
      "metadata": {
        "id": "8Hc23MqAiSAY"
      },
      "execution_count": 8,
      "outputs": []
    },
    {
      "cell_type": "code",
      "source": [
        "y_pred_dist = predictor_dist.predict(data, verbose=0)"
      ],
      "metadata": {
        "id": "7Unl25n3itrC"
      },
      "execution_count": 9,
      "outputs": []
    },
    {
      "cell_type": "code",
      "source": [
        "# make predictions for selected sentences \n",
        "y_pred_lgr = predictor_lgr.predict(selected_text.tolist(), verbose=0)\n",
        "#y_pred_bert = predictor_bert.predict(selected_text.tolist(), verbose=0)"
      ],
      "metadata": {
        "id": "2YLN3gM0KLLF"
      },
      "execution_count": 15,
      "outputs": []
    },
    {
      "cell_type": "code",
      "source": [
        "y_pred_dist = predictor_dist.predict(selected_text.tolist(), verbose=0)"
      ],
      "metadata": {
        "id": "kFWCXi1gjbpE"
      },
      "execution_count": 16,
      "outputs": []
    },
    {
      "cell_type": "code",
      "source": [
        "mapping = {'not_sentiment':0 , 'sentiment':1}\n",
        "y_pred_lgr_d = list(mapping[val] for val in y_pred_lgr )\n",
        "y_pred_dist_d = list(mapping[val] for val in y_pred_dist )\n",
        "#y_pred_d = list(mapping[val] for val in y_pred )\n"
      ],
      "metadata": {
        "id": "NCeBkHVBWByn"
      },
      "execution_count": 17,
      "outputs": []
    },
    {
      "cell_type": "code",
      "source": [
        "# print classification reports for all models \n",
        "report = classification_report(selected_sentiment,y_pred_dist_d)\n",
        "print('Classification report for distilbert_model')\n",
        "print(report ,'\\n')\n",
        "report = classification_report(selected_sentiment,y_pred_lgr_d)\n",
        "print('Classification report for logistic_regresson model')\n",
        "print(report,'\\n')\n",
        "#report = classification_report(selected_sentiment,y_pred_bert)\n",
        "#print('Classification report for bert_model')\n",
        "#print(report)"
      ],
      "metadata": {
        "colab": {
          "base_uri": "https://localhost:8080/"
        },
        "id": "n4IPRTHEKuCk",
        "outputId": "224a928d-484c-4f32-908b-8cb5af16c26b"
      },
      "execution_count": 52,
      "outputs": [
        {
          "output_type": "stream",
          "name": "stdout",
          "text": [
            "Classification report for distilbert_model\n",
            "              precision    recall  f1-score   support\n",
            "\n",
            "           0       0.97      0.97      0.97       100\n",
            "           1       0.97      0.97      0.97       100\n",
            "\n",
            "    accuracy                           0.97       200\n",
            "   macro avg       0.97      0.97      0.97       200\n",
            "weighted avg       0.97      0.97      0.97       200\n",
            " \n",
            "\n",
            "Classification report for logistic_regresson model\n",
            "              precision    recall  f1-score   support\n",
            "\n",
            "           0       0.87      0.82      0.85       100\n",
            "           1       0.83      0.88      0.85       100\n",
            "\n",
            "    accuracy                           0.85       200\n",
            "   macro avg       0.85      0.85      0.85       200\n",
            "weighted avg       0.85      0.85      0.85       200\n",
            " \n",
            "\n"
          ]
        }
      ]
    },
    {
      "cell_type": "code",
      "source": [
        "# display confution matrix \n",
        "cfg_dist = confusion_matrix(selected_sentiment , y_pred_dist_d)\n",
        "plt.figure(1 , figsize = (3,2))\n",
        "plt.title('             Confusion matrix for Distilbert Model    ' , fontsize = 10)\n",
        "sns.heatmap(cfg_dist , annot = True , cmap = 'coolwarm') \n",
        "cfg_lgr = confusion_matrix(selected_sentiment , y_pred_lgr_d)\n",
        "plt.figure(2 , figsize = (3,2))\n",
        "plt.title('Confusion matrix for Logistic Regression Model' , fontsize = 10)\n",
        "sns.heatmap(cfg_lgr , annot = True , cmap = 'coolwarm') \n",
        "#cfg_bert = confusion_matrix(selected_sentiment , y_pred_bert)\n",
        "#sns.heatmap(cfg_bert , annot = True , cmap = 'coolwarm') "
      ],
      "metadata": {
        "colab": {
          "base_uri": "https://localhost:8080/",
          "height": 468
        },
        "id": "41KzdPDAKuQG",
        "outputId": "2a398c15-319f-4ba3-b831-ed76b36a5003"
      },
      "execution_count": 45,
      "outputs": [
        {
          "output_type": "execute_result",
          "data": {
            "text/plain": [
              "<Axes: title={'center': 'Confusion matrix for Logistic Regression Model'}>"
            ]
          },
          "metadata": {},
          "execution_count": 45
        },
        {
          "output_type": "display_data",
          "data": {
            "text/plain": [
              "<Figure size 300x200 with 2 Axes>"
            ],
            "image/png": "[encoded data removed]"
          },
          "metadata": {}
        },
        {
          "output_type": "display_data",
          "data": {
            "text/plain": [
              "<Figure size 300x200 with 2 Axes>"
            ],
            "image/png": "[encoded data removed]"
          },
          "metadata": {}
        }
      ]
    },
    {
      "cell_type": "code",
      "source": [
        "print('Print Some samples sentances for all predictors:\\n')\n",
        "for i in data:\n",
        "  print(i , '\\n')\n",
        "  prediction = predictor_lgr.predict(i)\n",
        "  print('logistic regressor prediction : ' ,Fore.WHITE + Back.GREEN + prediction + Style.RESET_ALL)\n",
        "  prediction = predictor_dist.predict(i)\n",
        "  print('Distilbert prediction : ' ,Fore.WHITE + Back.GREEN + prediction + Style.RESET_ALL, '\\n')\n",
        "\n"
      ],
      "metadata": {
        "colab": {
          "base_uri": "https://localhost:8080/"
        },
        "id": "QrdfgCTmIqu_",
        "outputId": "f3bea033-4400-4493-8966-0263b456cad8"
      },
      "execution_count": 74,
      "outputs": [
        {
          "output_type": "stream",
          "name": "stdout",
          "text": [
            "Print Some samples sentances for all predictors:\n",
            "\n",
            "This movie was horrible! The plot was boring. Acting was okay, though. \n",
            "\n",
            "logistic regressor prediction :  \u001b[37m\u001b[42msentiment\u001b[0m\n",
            "Distilbert prediction :  \u001b[37m\u001b[42msentiment\u001b[0m \n",
            "\n",
            "The film really sucked. I want my money back. \n",
            "\n",
            "logistic regressor prediction :  \u001b[37m\u001b[42msentiment\u001b[0m\n",
            "Distilbert prediction :  \u001b[37m\u001b[42msentiment\u001b[0m \n",
            "\n",
            "What a beautiful romantic comedy. 10/10 would see again! \n",
            "\n",
            "logistic regressor prediction :  \u001b[37m\u001b[42mnot_sentiment\u001b[0m\n",
            "Distilbert prediction :  \u001b[37m\u001b[42mnot_sentiment\u001b[0m \n",
            "\n"
          ]
        }
      ]
    },
    {
      "cell_type": "code",
      "source": [
        "print('Now the user should add a test sentence')\n",
        "print('This sentence will be predicted on all 3 modles')\n",
        "print('Enter q to stop the loop')\n",
        "while(True):\n",
        "  user_input = input(\"\\nEnter sentance to be eveluated: \\n\\n\")\n",
        "  if user_input == 'q':\n",
        "    break\n",
        "  else:\n",
        "    prediction_lgr = predictor_lgr.predict(user_input)\n",
        "    print('Logistic Regerassion Predictions : ' , Fore.WHITE + Back.GREEN + prediction_lgr + Style.RESET_ALL)\n",
        "    prediction_dist = predictor_dist.predict(user_input)\n",
        "    print('Distildibert Predictions : ' ,Fore.WHITE + Back.GREEN + prediction_dist + Style.RESET_ALL)\n",
        "    "
      ],
      "metadata": {
        "colab": {
          "base_uri": "https://localhost:8080/"
        },
        "id": "eD62YI8j-7aL",
        "outputId": "34c754aa-a3ec-4b1b-c610-6b7920635aab"
      },
      "execution_count": 75,
      "outputs": [
        {
          "name": "stdout",
          "output_type": "stream",
          "text": [
            "Now the user should add a test sentence\n",
            "This sentence will be predicted on all 3 modles\n",
            "Enter q to stop the loop\n",
            "\n",
            "Enter sentance to be eveluated: \n",
            "\n",
            "This movie was horrible! The plot was boring. Acting was okay, though\n",
            "Logistic Regerassion Predictions :  \u001b[37m\u001b[42msentiment\u001b[0m\n",
            "Distildibert Predictions :  \u001b[37m\u001b[42msentiment\u001b[0m\n",
            "\n",
            "Enter sentance to be eveluated: \n",
            "\n",
            "I am going to sleep\n",
            "Logistic Regerassion Predictions :  \u001b[37m\u001b[42msentiment\u001b[0m\n",
            "Distildibert Predictions :  \u001b[37m\u001b[42msentiment\u001b[0m\n",
            "\n",
            "Enter sentance to be eveluated: \n",
            "\n",
            "My name is Ilan \n",
            "Logistic Regerassion Predictions :  \u001b[37m\u001b[42mnot_sentiment\u001b[0m\n",
            "Distildibert Predictions :  \u001b[37m\u001b[42mnot_sentiment\u001b[0m\n",
            "\n",
            "Enter sentance to be eveluated: \n",
            "\n",
            "q\n"
          ]
        }
      ]
    }
  ],
  "metadata": {
    "colab": {
      "name": "Welcome To Colaboratory",
      "provenance": []
    },
    "kernelspec": {
      "display_name": "Python 3",
      "name": "python3"
    }
  },
  "nbformat": 4,
  "nbformat_minor": 0
}