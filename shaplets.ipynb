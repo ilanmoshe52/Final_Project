{
  "cells": [
    {
      "cell_type": "markdown",
      "metadata": {
        "id": "view-in-github",
        "colab_type": "text"
      },
      "source": [
        "<a href=\"https://colab.research.google.com/github/ilanmoshe52/Final_Project/blob/main/shaplets.ipynb\" target=\"_parent\"><img src=\"https://colab.research.google.com/assets/colab-badge.svg\" alt=\"Open In Colab\"/></a>"
      ]
    },
    {
      "cell_type": "code",
      "source": [
        "!pip install tslearn --ignore-installed"
      ],
      "metadata": {
        "colab": {
          "base_uri": "https://localhost:8080/",
          "height": 590
        },
        "id": "TDdwg3oTa5dN",
        "outputId": "fca6d227-cd78-43ce-e975-e295da8c209a"
      },
      "execution_count": 1,
      "outputs": [
        {
          "output_type": "stream",
          "name": "stdout",
          "text": [
            "Collecting tslearn\n",
            "  Downloading tslearn-0.6.3-py3-none-any.whl (374 kB)\n",
            "\u001b[2K     \u001b[90m━━━━━━━━━━━━━━━━━━━━━━━━━━━━━━━━━━━━━━━━\u001b[0m \u001b[32m374.4/374.4 kB\u001b[0m \u001b[31m4.7 MB/s\u001b[0m eta \u001b[36m0:00:00\u001b[0m\n",
            "\u001b[?25hCollecting numpy (from tslearn)\n",
            "  Downloading numpy-1.26.4-cp310-cp310-manylinux_2_17_x86_64.manylinux2014_x86_64.whl (18.2 MB)\n",
            "\u001b[2K     \u001b[90m━━━━━━━━━━━━━━━━━━━━━━━━━━━━━━━━━━━━━━━━\u001b[0m \u001b[32m18.2/18.2 MB\u001b[0m \u001b[31m18.3 MB/s\u001b[0m eta \u001b[36m0:00:00\u001b[0m\n",
            "\u001b[?25hCollecting scipy (from tslearn)\n",
            "  Downloading scipy-1.12.0-cp310-cp310-manylinux_2_17_x86_64.manylinux2014_x86_64.whl (38.4 MB)\n",
            "\u001b[2K     \u001b[90m━━━━━━━━━━━━━━━━━━━━━━━━━━━━━━━━━━━━━━━━\u001b[0m \u001b[32m38.4/38.4 MB\u001b[0m \u001b[31m13.6 MB/s\u001b[0m eta \u001b[36m0:00:00\u001b[0m\n",
            "\u001b[?25hCollecting scikit-learn (from tslearn)\n",
            "  Downloading scikit_learn-1.4.1.post1-cp310-cp310-manylinux_2_17_x86_64.manylinux2014_x86_64.whl (12.1 MB)\n",
            "\u001b[2K     \u001b[90m━━━━━━━━━━━━━━━━━━━━━━━━━━━━━━━━━━━━━━━━\u001b[0m \u001b[32m12.1/12.1 MB\u001b[0m \u001b[31m43.2 MB/s\u001b[0m eta \u001b[36m0:00:00\u001b[0m\n",
            "\u001b[?25hCollecting numba (from tslearn)\n",
            "  Downloading numba-0.59.1-cp310-cp310-manylinux2014_x86_64.manylinux_2_17_x86_64.whl (3.7 MB)\n",
            "\u001b[2K     \u001b[90m━━━━━━━━━━━━━━━━━━━━━━━━━━━━━━━━━━━━━━━━\u001b[0m \u001b[32m3.7/3.7 MB\u001b[0m \u001b[31m58.9 MB/s\u001b[0m eta \u001b[36m0:00:00\u001b[0m\n",
            "\u001b[?25hCollecting joblib (from tslearn)\n",
            "  Downloading joblib-1.3.2-py3-none-any.whl (302 kB)\n",
            "\u001b[2K     \u001b[90m━━━━━━━━━━━━━━━━━━━━━━━━━━━━━━━━━━━━━━━━\u001b[0m \u001b[32m302.2/302.2 kB\u001b[0m \u001b[31m5.4 MB/s\u001b[0m eta \u001b[36m0:00:00\u001b[0m\n",
            "\u001b[?25hCollecting llvmlite<0.43,>=0.42.0dev0 (from numba->tslearn)\n",
            "  Downloading llvmlite-0.42.0-cp310-cp310-manylinux_2_17_x86_64.manylinux2014_x86_64.whl (43.8 MB)\n",
            "\u001b[2K     \u001b[90m━━━━━━━━━━━━━━━━━━━━━━━━━━━━━━━━━━━━━━━━\u001b[0m \u001b[32m43.8/43.8 MB\u001b[0m \u001b[31m5.9 MB/s\u001b[0m eta \u001b[36m0:00:00\u001b[0m\n",
            "\u001b[?25hCollecting threadpoolctl>=2.0.0 (from scikit-learn->tslearn)\n",
            "  Downloading threadpoolctl-3.4.0-py3-none-any.whl (17 kB)\n",
            "Installing collected packages: threadpoolctl, numpy, llvmlite, joblib, scipy, numba, scikit-learn, tslearn\n",
            "Successfully installed joblib-1.3.2 llvmlite-0.41.1 numba-0.58.1 numpy-1.25.2 scikit-learn-1.2.2 scipy-1.11.4 threadpoolctl-3.3.0 tslearn-0.6.3\n"
          ]
        },
        {
          "output_type": "display_data",
          "data": {
            "application/vnd.colab-display-data+json": {
              "pip_warning": {
                "packages": [
                  "numpy"
                ]
              },
              "id": "a1f5e7f420124662beca59e8dc6be2fb"
            }
          },
          "metadata": {}
        }
      ]
    },
    {
      "cell_type": "code",
      "source": [
        "import numpy as np\n",
        "import matplotlib.pyplot as plt\n",
        "from sklearn.model_selection import train_test_split\n",
        "\n",
        "# Function to generate sinusoidal signals with noise\n",
        "def generate_signal(num_samples, num_sinuses):\n",
        "    time = np.linspace(0, 2*np.pi, num_samples)\n",
        "    signal = np.zeros(num_samples)\n",
        "    for i in range(1,num_sinuses):\n",
        "        amplitude = np.random.uniform(0.5, 2.5)\n",
        "        if (i == 1 ):\n",
        "          frequency = np.random.uniform(0.5, 2.5)\n",
        "        else:\n",
        "          frequency = (i+1)*1000*np.random.uniform(0.5, 2.5)\n",
        "\n",
        "        phase = 0 #np.random.uniform(0, 2*np.pi)\n",
        "        signal += amplitude * np.sin( frequency * time + phase)\n",
        "    noise = np.random.normal(0, 0.5, num_samples)  # Additive Gaussian noise\n",
        "    return signal + noise\n",
        "\n",
        "# Generate dataset with three classes\n",
        "num_samples = 32\n",
        "num_classes = 2\n",
        "num_signals = 100\n",
        "X = []\n",
        "y = []\n",
        "for i in range(num_classes):\n",
        "    for j in range(num_signals):\n",
        "        num_sinuses = i + 1  # Class 1: 1 sinus, Class 2: 2 sinuses, Class 3: 3 sinuses\n",
        "        signal = generate_signal(num_samples, num_sinuses)\n",
        "        X.append(signal)\n",
        "        y.append(i)\n",
        "\n",
        "# Convert lists to numpy arrays\n",
        "X = np.array(X)\n",
        "y = np.array(y)\n",
        "\n",
        "# Split the dataset into train and test sets\n",
        "X_train, X_test, y_train, y_test = train_test_split(X, y, test_size=0.2, random_state=42)\n",
        "\n",
        "# Function to compute the DTW distance between two signals\n",
        "def dtw_distance(signal1, signal2):\n",
        "    n = len(signal1)\n",
        "    m = len(signal2)\n",
        "    dtw_matrix = np.zeros((n + 1, m + 1))\n",
        "    dtw_matrix[1:, 0] = np.inf\n",
        "    dtw_matrix[0, 1:] = np.inf\n",
        "    for i in range(1, n + 1):\n",
        "        for j in range(1, m + 1):\n",
        "            cost = abs(signal1[i - 1] - signal2[j - 1])\n",
        "            dtw_matrix[i, j] = cost + min(dtw_matrix[i - 1, j], dtw_matrix[i, j - 1], dtw_matrix[i - 1, j - 1])\n",
        "    return dtw_matrix[n, m]\n",
        "\n",
        "# Function to classify a test signal using DTW\n",
        "def classify_signal(test_signal, train_signals, train_labels):\n",
        "    min_distance = np.inf\n",
        "    predicted_class = None\n",
        "    for i, train_signal in enumerate(train_signals):\n",
        "        distance = dtw_distance(test_signal, train_signal)\n",
        "        #print(distance)\n",
        "        if distance < min_distance:\n",
        "            min_distance = distance\n",
        "            predicted_class = train_labels[i]\n",
        "    return predicted_class\n",
        "\n"
      ],
      "metadata": {
        "id": "s1kbFWBKZMwt"
      },
      "execution_count": 50,
      "outputs": []
    },
    {
      "cell_type": "code",
      "source": [
        "# Classify test signals and calculate accuracy\n",
        "correct_predictions = 0\n",
        "for i in range(len(X_test)):\n",
        "    predicted_class = classify_signal(X_test[i], X_train, y_train)\n",
        "    if predicted_class == y_test[i]:\n",
        "        correct_predictions += 1\n",
        "\n",
        "accuracy = correct_predictions / len(X_test)\n",
        "print(\"Accuracy:\", accuracy)\n"
      ],
      "metadata": {
        "colab": {
          "base_uri": "https://localhost:8080/"
        },
        "id": "vOWvdZ_Qb7gR",
        "outputId": "02a666e2-fcfe-4280-d3eb-f2423b8c5e1d"
      },
      "execution_count": 54,
      "outputs": [
        {
          "output_type": "stream",
          "name": "stderr",
          "text": [
            "<ipython-input-50-d1e1ac9ae3e4>:51: DeprecationWarning: Conversion of an array with ndim > 0 to a scalar is deprecated, and will error in future. Ensure you extract a single element from your array before performing this operation. (Deprecated NumPy 1.25.)\n",
            "  dtw_matrix[i, j] = cost + min(dtw_matrix[i - 1, j], dtw_matrix[i, j - 1], dtw_matrix[i - 1, j - 1])\n"
          ]
        },
        {
          "output_type": "stream",
          "name": "stdout",
          "text": [
            "Accuracy: 0.875\n"
          ]
        }
      ]
    },
    {
      "cell_type": "code",
      "source": [
        "from tslearn.shapelets import ShapeletModel\n",
        "from tslearn.datasets import CachedDatasets\n",
        "from tslearn.preprocessing import TimeSeriesScalerMinMax\n",
        "\n",
        "# Load dataset\n",
        "#X_train, y_train, X_test, y_test = CachedDatasets().load_dataset(\"Trace\")\n",
        "X_train = TimeSeriesScalerMinMax().fit_transform(X_train)\n",
        "X_test = TimeSeriesScalerMinMax().fit_transform(X_test)\n",
        "\n",
        "# Initialize shapelet model\n",
        "shapelet_model = ShapeletModel(n_shapelets_per_size={10: 10},\n",
        "                               optimizer=\"adam\",\n",
        "                               weight_regularizer=0.01,\n",
        "                               )\n",
        "\n",
        "# Fit the model on training data\n",
        "shapelet_model.fit(X_train, y_train)\n",
        "\n",
        "# Evaluate on test data\n",
        "accuracy = shapelet_model.score(X_test, y_test)\n",
        "print(\"Accuracy:\", accuracy)\n"
      ],
      "metadata": {
        "colab": {
          "base_uri": "https://localhost:8080/"
        },
        "id": "g05BOSe5a1Oa",
        "outputId": "a83cec0d-dd90-4c0f-c729-1cb3370497aa"
      },
      "execution_count": 53,
      "outputs": [
        {
          "output_type": "stream",
          "name": "stderr",
          "text": [
            "/usr/local/lib/python3.10/dist-packages/tslearn/shapelets/shapelets.py:354: FutureWarning: The default value for 'scale' is set to False in version 0.4 to ensure backward compatibility, but is likely to change in a future version.\n",
            "  warnings.warn(\"The default value for 'scale' is set to False \"\n"
          ]
        },
        {
          "output_type": "stream",
          "name": "stdout",
          "text": [
            "Accuracy: 0.95\n"
          ]
        }
      ]
    },
    {
      "cell_type": "code",
      "source": [
        "X_test.squeeze().shape\n"
      ],
      "metadata": {
        "colab": {
          "base_uri": "https://localhost:8080/"
        },
        "id": "sNAaqYGjgTBV",
        "outputId": "e7397b40-c6ae-46dd-f15a-02f18484782d"
      },
      "execution_count": 55,
      "outputs": [
        {
          "output_type": "execute_result",
          "data": {
            "text/plain": [
              "(40, 32)"
            ]
          },
          "metadata": {},
          "execution_count": 55
        }
      ]
    },
    {
      "cell_type": "code",
      "source": [
        "# Extract and plot learned shapelets\n",
        "plt.figure(figsize=(10, 6))\n",
        "for i, shapelet in enumerate(shapelet_model.shapelets_):\n",
        "    plt.subplot(4, 5, i + 1)\n",
        "    plt.plot(shapelet.ravel(), \"r-\")\n",
        "    plt.title(\"Shapelet {}\".format(i + 1))\n",
        "    plt.xlabel(\"Time\")\n",
        "    plt.ylabel(\"Value\")\n",
        "plt.tight_layout()\n",
        "plt.show()"
      ],
      "metadata": {
        "id": "rQ9OM2Rux0ua",
        "outputId": "89c86049-139e-489b-8249-345b205907ec",
        "colab": {
          "base_uri": "https://localhost:8080/",
          "height": 336
        }
      },
      "execution_count": 56,
      "outputs": [
        {
          "output_type": "display_data",
          "data": {
            "text/plain": [
              "<Figure size 1000x600 with 10 Axes>"
            ],
            "image/png": "[encoded data removed]"
          },
          "metadata": {}
        }
      ]
    },
    {
      "cell_type": "code",
      "source": [
        "y_pred = shapelet_model.predict(X_test)\n",
        "y_pred"
      ],
      "metadata": {
        "id": "x0ICF6I4yPt2",
        "outputId": "7abaa024-a275-48a6-e908-b990b5945b58",
        "colab": {
          "base_uri": "https://localhost:8080/"
        }
      },
      "execution_count": 59,
      "outputs": [
        {
          "output_type": "execute_result",
          "data": {
            "text/plain": [
              "array([0, 0, 0, 1, 1, 1, 0, 1, 1, 0, 0, 1, 1, 0, 1, 1, 0, 1, 0, 0, 0, 0,\n",
              "       1, 0, 0, 0, 0, 0, 1, 1, 0, 0, 0, 1, 1, 1, 1, 1, 1, 0])"
            ]
          },
          "metadata": {},
          "execution_count": 59
        }
      ]
    },
    {
      "cell_type": "code",
      "source": [
        "accuracy = np.mean(y_pred == y_test)\n",
        "print(\"Accuracy:\", accuracy)"
      ],
      "metadata": {
        "id": "uMvm4vZTyekg",
        "outputId": "2e9438d1-9b8b-443f-c06b-2ac86e7a545a",
        "colab": {
          "base_uri": "https://localhost:8080/"
        }
      },
      "execution_count": 60,
      "outputs": [
        {
          "output_type": "stream",
          "name": "stdout",
          "text": [
            "Accuracy: 0.95\n"
          ]
        }
      ]
    },
    {
      "cell_type": "code",
      "source": [],
      "metadata": {
        "id": "9M67BLgSytdp"
      },
      "execution_count": null,
      "outputs": []
    }
  ],
  "metadata": {
    "colab": {
      "name": "Welcome To Colaboratory",
      "provenance": [],
      "include_colab_link": true
    },
    "kernelspec": {
      "display_name": "Python 3",
      "name": "python3"
    }
  },
  "nbformat": 4,
  "nbformat_minor": 0
}